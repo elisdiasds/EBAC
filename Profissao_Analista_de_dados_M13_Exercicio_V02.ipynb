{
  "nbformat": 4,
  "nbformat_minor": 0,
  "metadata": {
    "colab": {
      "provenance": [],
      "include_colab_link": true
    },
    "kernelspec": {
      "name": "python3",
      "display_name": "Python 3"
    }
  },
  "cells": [
    {
      "cell_type": "markdown",
      "metadata": {
        "id": "view-in-github",
        "colab_type": "text"
      },
      "source": [
        "<a href=\"https://colab.research.google.com/github/elisdiasds/EBAC/blob/main/Profissao_Analista_de_dados_M13_Exercicio_V02.ipynb\" target=\"_parent\"><img src=\"https://colab.research.google.com/assets/colab-badge.svg\" alt=\"Open In Colab\"/></a>"
      ]
    },
    {
      "cell_type": "markdown",
      "metadata": {
        "id": "KJqp9AANOCtf"
      },
      "source": [
        "<img src=\"https://raw.githubusercontent.com/andre-marcos-perez/ebac-course-utils/main/media/logo/newebac_logo_black_half.png\" alt=\"ebac-logo\">\n",
        "\n",
        "---\n",
        "\n",
        "# **Módulo** | Análise de Dados: Data Wrangling II\n",
        "Caderno de **Exercícios**<br>\n",
        "Professor [André Perez](https://www.linkedin.com/in/andremarcosperez/)\n",
        "\n",
        "---"
      ]
    },
    {
      "cell_type": "markdown",
      "metadata": {
        "id": "d9jDtUbDOE1-"
      },
      "source": [
        "# **Tópicos**\n",
        "\n",
        "<ol type=\"1\">\n",
        "  <li>Agregação e Ordenação;</li>\n",
        "  <li>Combinação;</li>\n",
        "  <li>Técnicas Avançadas.</li>\n",
        "</ol>"
      ]
    },
    {
      "cell_type": "markdown",
      "metadata": {
        "id": "SmoHgt-lwkpD"
      },
      "source": [
        "---"
      ]
    },
    {
      "cell_type": "markdown",
      "metadata": {
        "id": "GABI6OW8OfQ2"
      },
      "source": [
        "# **Exercícios**"
      ]
    },
    {
      "cell_type": "markdown",
      "metadata": {
        "id": "45DbYPgFhuR7"
      },
      "source": [
        "Neste exercícios, vamos trabalhar com dados geográficos, demográficos e econômicos do Brasil. Vamos manipular e combinar dados de duas frentes distintas para poder responder perguntas de negócios."
      ]
    },
    {
      "cell_type": "markdown",
      "metadata": {
        "id": "GWgNoJN8DHyY"
      },
      "source": [
        "## 1\\. Data Wrangling"
      ]
    },
    {
      "cell_type": "markdown",
      "metadata": {
        "id": "E30KnCdKRdYl"
      },
      "source": [
        "### **1.1. Estados**"
      ]
    },
    {
      "cell_type": "markdown",
      "metadata": {
        "id": "w2q1apyNYHbu"
      },
      "source": [
        "O arquivo `estados-bruto.xml` contém informações sobre estados (nome, sigla e região). **Carregue-o na máquina virtual do Google Colab**. Um arquivo do tipo XML é similar a um arquivo do tipo HTML, exemplo do estado do Acre:"
      ]
    },
    {
      "cell_type": "markdown",
      "metadata": {
        "id": "GzjE2aEyYW5A"
      },
      "source": [
        "```xml\n",
        "<ESTADO>\n",
        "  <ID>1</ID>\n",
        "  <NOME>ACRE</NOME>\n",
        "  <IDCAPITAL>16</IDCAPITAL>\n",
        "  <SIGLA>AC</SIGLA>\n",
        "  <REGIAO>NORTE</REGIAO>\n",
        "</ESTADO>\n",
        "```"
      ]
    },
    {
      "cell_type": "markdown",
      "metadata": {
        "id": "7Mtk7Dd9UHqg"
      },
      "source": [
        "Utilize o pacote Python `beautifulsoup4` para extrair os dados do arquivo `estados-bruto.xml` providenciado. Salve os dados extraidos no arquivo `estados-limpo.csv` separado por `;`. Exemplo das três primeiras linhas mais o cabeçalho:\n",
        "\n",
        "```\n",
        "estado;sigla;regiao\n",
        "ACRE;AC;NORTE\n",
        "ALAGOAS;AL;NORDESTE\n",
        "AMAPA;AP;NORTE\n",
        "```\n",
        "\n",
        "**Dica**: Utilize o parser de xml chamado `lxml` do `beautifulsoup4`."
      ]
    },
    {
      "cell_type": "code",
      "metadata": {
        "id": "kz0ZyYI0Sg6P",
        "colab": {
          "base_uri": "https://localhost:8080/"
        },
        "outputId": "8473b4bd-e4c4-4fe3-e0b8-6deed7e92879"
      },
      "source": [
        "# ler o arquivo estados-bruto.xml, utilize o xml parser chamado lxml\n",
        "\n",
        "from bs4 import BeautifulSoup\n",
        "import csv\n",
        "\n",
        "NOME_ARQUIVO_FONTE = 'estados-bruto.xml'\n",
        "NOME_ARQUIVO_DESTINO = 'estados-limpo.csv'\n",
        "\n",
        "with open(NOME_ARQUIVO_FONTE, 'r') as arquivo_fonte:\n",
        "  fonte = BeautifulSoup(arquivo_fonte, 'lxml')"
      ],
      "execution_count": null,
      "outputs": [
        {
          "output_type": "stream",
          "name": "stderr",
          "text": [
            "<ipython-input-9-51f4cfe9d56e>:10: XMLParsedAsHTMLWarning: It looks like you're parsing an XML document using an HTML parser. If this really is an HTML document (maybe it's XHTML?), you can ignore or filter this warning. If it's XML, you should know that using an XML parser will be more reliable. To parse this document as XML, make sure you have the lxml package installed, and pass the keyword argument `features=\"xml\"` into the BeautifulSoup constructor.\n",
            "  fonte = BeautifulSoup(arquivo_fonte, 'lxml')\n"
          ]
        }
      ]
    },
    {
      "cell_type": "code",
      "metadata": {
        "id": "rB0u2NjEXhDo",
        "colab": {
          "base_uri": "https://localhost:8080/"
        },
        "outputId": "62a8f8bc-13eb-4ce5-89f0-681a3474d00e"
      },
      "source": [
        "# visualize os resultados\n",
        "\n",
        "fonte"
      ],
      "execution_count": null,
      "outputs": [
        {
          "output_type": "execute_result",
          "data": {
            "text/plain": [
              "<?xml version=\"1.0\" encoding=\"utf-8\" ?><html><body><estados>\n",
              "<estado>\n",
              "<id>1</id>\n",
              "<nome>ACRE</nome>\n",
              "<idcapital>16</idcapital>\n",
              "<sigla>AC</sigla>\n",
              "<regiao>NORTE</regiao>\n",
              "</estado>\n",
              "<estado>\n",
              "<id>2</id>\n",
              "<nome>ALAGOAS</nome>\n",
              "<idcapital>68</idcapital>\n",
              "<sigla>AL</sigla>\n",
              "<regiao>NORDESTE</regiao>\n",
              "</estado>\n",
              "<estado>\n",
              "<id>3</id>\n",
              "<nome>AMAPA</nome>\n",
              "<idcapital>131</idcapital>\n",
              "<sigla>AP</sigla>\n",
              "<regiao>NORTE</regiao>\n",
              "</estado>\n",
              "<estado>\n",
              "<id>4</id>\n",
              "<nome>AMAZONAS</nome>\n",
              "<idcapital>178</idcapital>\n",
              "<sigla>AM</sigla>\n",
              "<regiao>NORTE</regiao>\n",
              "</estado>\n",
              "<estado>\n",
              "<id>5</id>\n",
              "<nome>BAHIA</nome>\n",
              "<idcapital>536</idcapital>\n",
              "<sigla>BA</sigla>\n",
              "<regiao>NORDESTE</regiao>\n",
              "</estado>\n",
              "<estado>\n",
              "<id>6</id>\n",
              "<nome>CEARA</nome>\n",
              "<idcapital>676</idcapital>\n",
              "<sigla>CE</sigla>\n",
              "<regiao>NORDESTE</regiao>\n",
              "</estado>\n",
              "<estado>\n",
              "<id>7</id>\n",
              "<nome>DISTRITO FEDERAL</nome>\n",
              "<idcapital>916</idcapital>\n",
              "<sigla>DF</sigla>\n",
              "<regiao>CENTRO-OESTE</regiao>\n",
              "</estado>\n",
              "<estado>\n",
              "<id>8</id>\n",
              "<nome>ESPIRITO SANTO</nome>\n",
              "<idcapital>879</idcapital>\n",
              "<sigla>ES</sigla>\n",
              "<regiao>SUDESTE</regiao>\n",
              "</estado>\n",
              "<estado>\n",
              "<id>9</id>\n",
              "<nome>GOIAS</nome>\n",
              "<idcapital>973</idcapital>\n",
              "<sigla>GO</sigla>\n",
              "<regiao>CENTRO-OESTE</regiao>\n",
              "</estado>\n",
              "<estado>\n",
              "<id>10</id>\n",
              "<nome>MARANHAO</nome>\n",
              "<idcapital>1309</idcapital>\n",
              "<sigla>MA</sigla>\n",
              "<regiao>NORDESTE</regiao>\n",
              "</estado>\n",
              "<estado>\n",
              "<id>11</id>\n",
              "<nome>MATO GROSSO</nome>\n",
              "<idcapital>1374</idcapital>\n",
              "<sigla>MT</sigla>\n",
              "<regiao>CENTRO-OESTE</regiao>\n",
              "</estado>\n",
              "<estado>\n",
              "<id>12</id>\n",
              "<nome>MATO GROSSO DO SUL</nome>\n",
              "<idcapital>1485</idcapital>\n",
              "<sigla>MS</sigla>\n",
              "<regiao>CENTRO-OESTE</regiao>\n",
              "</estado>\n",
              "<estado>\n",
              "<id>13</id>\n",
              "<nome>PARA</nome>\n",
              "<idcapital>1561</idcapital>\n",
              "<sigla>PA</sigla>\n",
              "<regiao>NORTE</regiao>\n",
              "</estado>\n",
              "<estado>\n",
              "<id>14</id>\n",
              "<nome>PARAIBA</nome>\n",
              "<idcapital>1779</idcapital>\n",
              "<sigla>PB</sigla>\n",
              "<regiao>NORDESTE</regiao>\n",
              "</estado>\n",
              "<estado>\n",
              "<id>15</id>\n",
              "<nome>PARANA</nome>\n",
              "<idcapital>2002</idcapital>\n",
              "<sigla>PR</sigla>\n",
              "<regiao>SUL</regiao>\n",
              "</estado>\n",
              "<estado>\n",
              "<id>16</id>\n",
              "<nome>PERNAMBUCO</nome>\n",
              "<idcapital>2439</idcapital>\n",
              "<sigla>PE</sigla>\n",
              "<regiao>NORDESTE</regiao>\n",
              "</estado>\n",
              "<estado>\n",
              "<id>17</id>\n",
              "<nome>PIAUI</nome>\n",
              "<idcapital>2704</idcapital>\n",
              "<sigla>PI</sigla>\n",
              "<regiao>NORDESTE</regiao>\n",
              "</estado>\n",
              "<estado>\n",
              "<id>18</id>\n",
              "<nome>RIO DE JANEIRO</nome>\n",
              "<idcapital>2779</idcapital>\n",
              "<sigla>RJ</sigla>\n",
              "<regiao>SUDESTE</regiao>\n",
              "</estado>\n",
              "<estado>\n",
              "<id>19</id>\n",
              "<nome>RIO GRANDE DO NORTE</nome>\n",
              "<idcapital>2890</idcapital>\n",
              "<sigla>RN</sigla>\n",
              "<regiao>NORDESTE</regiao>\n",
              "</estado>\n",
              "<estado>\n",
              "<id>20</id>\n",
              "<nome>RIO GRANDE DO SUL</nome>\n",
              "<idcapital>3273</idcapital>\n",
              "<sigla>RS</sigla>\n",
              "<regiao>SUL</regiao>\n",
              "</estado>\n",
              "<estado>\n",
              "<id>21</id>\n",
              "<nome>RONDONIA</nome>\n",
              "<idcapital>3473</idcapital>\n",
              "<sigla>RO</sigla>\n",
              "<regiao>NORTE</regiao>\n",
              "</estado>\n",
              "<estado>\n",
              "<id>22</id>\n",
              "<nome>RORAIMA</nome>\n",
              "<idcapital>3491</idcapital>\n",
              "<sigla>RR</sigla>\n",
              "<regiao>NORTE</regiao>\n",
              "</estado>\n",
              "<estado>\n",
              "<id>23</id>\n",
              "<nome>SANTA CATARINA</nome>\n",
              "<idcapital>3591</idcapital>\n",
              "<sigla>SC</sigla>\n",
              "<regiao>SUL</regiao>\n",
              "</estado>\n",
              "<estado>\n",
              "<id>24</id>\n",
              "<nome>SAO PAULO</nome>\n",
              "<idcapital>4361</idcapital>\n",
              "<sigla>SP</sigla>\n",
              "<regiao>SUDESTE</regiao>\n",
              "</estado>\n",
              "<estado>\n",
              "<id>25</id>\n",
              "<nome>SERGIPE</nome>\n",
              "<idcapital>4444</idcapital>\n",
              "<sigla>SE</sigla>\n",
              "<regiao>NORDESTE</regiao>\n",
              "</estado>\n",
              "<estado>\n",
              "<id>26</id>\n",
              "<nome>TOCANTINS</nome>\n",
              "<idcapital>4606</idcapital>\n",
              "<sigla>TO</sigla>\n",
              "<regiao>NORTE</regiao>\n",
              "</estado>\n",
              "<estado>\n",
              "<id>27</id>\n",
              "<nome>MINAS GERAIS</nome>\n",
              "<idcapital>4790</idcapital>\n",
              "<sigla>MG</sigla>\n",
              "<regiao>SUDESTE</regiao>\n",
              "</estado>\n",
              "</estados>\n",
              "</body></html>"
            ]
          },
          "metadata": {},
          "execution_count": 10
        }
      ]
    },
    {
      "cell_type": "code",
      "metadata": {
        "id": "6mos3LTVXrzV"
      },
      "source": [
        "# manipule os dados\n",
        "# continue o codigo aqui\n",
        "from bs4 import BeautifulSoup\n",
        "import csv\n",
        "\n",
        "estados = fonte.find_all('estado')\n",
        "\n",
        "\n",
        "\n"
      ],
      "execution_count": null,
      "outputs": []
    },
    {
      "cell_type": "code",
      "metadata": {
        "id": "9yCma_LASxFg",
        "colab": {
          "base_uri": "https://localhost:8080/"
        },
        "outputId": "cb243caf-f034-438d-ea39-fc014797fa24"
      },
      "source": [
        "# escrever o conteudo extraido no arquivo estados-limpo.csv separados por ;\n",
        "\n",
        "NOME_ARQUIVO_DESTINO = 'estados-limpo.csv'\n",
        "with open(NOME_ARQUIVO_DESTINO, 'w', newline='', encoding='utf-8') as file:\n",
        "    writer = csv.writer(file, delimiter=';')\n",
        "    writer.writerow(['estado', 'sigla', 'regiao'])\n",
        "    for estado in estados:\n",
        "        nome = estado.find('nome').text\n",
        "        sigla = estado.find('sigla').text\n",
        "        regiao = estado.find('regiao').text\n",
        "        writer.writerow([nome, sigla, regiao])\n",
        "print(f'Dados extraídos com sucesso!')\n",
        "\n",
        "# continue o codigo aqui"
      ],
      "execution_count": null,
      "outputs": [
        {
          "output_type": "stream",
          "name": "stdout",
          "text": [
            "Dados extraídos com sucesso!\n"
          ]
        }
      ]
    },
    {
      "cell_type": "markdown",
      "metadata": {
        "id": "Fq0xqYYSYq92"
      },
      "source": [
        "### **1.2. Cidades**"
      ]
    },
    {
      "cell_type": "markdown",
      "metadata": {
        "id": "eWRbjhOQYq93"
      },
      "source": [
        "O arquivo `cidades-bruto.csv` contém informações demográficas e socioeconomicas das cidades do Brasil. **Carregue-o na máquina virtual do Google Colab**. Utilize o pacote Python `pandas` para extrair os dados do arquivo `cidades-bruto.xml` providenciado. Seguindo as seguintes especificações:"
      ]
    },
    {
      "cell_type": "markdown",
      "metadata": {
        "id": "76zW8sMsbhEu"
      },
      "source": [
        "1. Apenas dados do censo de 2010;\n",
        "1. Apenas as colunas UF, Nome, PIB, Pop_est_2009 e PIB_percapita."
      ]
    },
    {
      "cell_type": "markdown",
      "metadata": {
        "id": "auiIxlw-blp8"
      },
      "source": [
        "Salve os dados extraidos no arquivo `cidades-limpo.csv` separado por `;`. Exemplo das três primeiras linhas mais o cabeçalho:\n",
        "\n",
        "```\n",
        "estado;cidade;populacao;pib;pib_percapita\n",
        "BAHIA;TREMEDAL;18433;57883.9921875;3140.23999023\n",
        "RIO GRANDE DO SUL;TURUÇU;4000;45723875;11430.96972656\n",
        "ESPIRITO SANTO;VITÓRIA;320156;19782628;61790.58984375\n",
        "```"
      ]
    },
    {
      "cell_type": "code",
      "metadata": {
        "id": "nBmWOkvzYq94"
      },
      "source": [
        "# ler o arquivo cidades-bruto.csv\n",
        "\n",
        "import pandas as pd\n",
        "\n",
        "NOME_ARQUIVO_FONTE = 'cidades-bruto.csv'\n",
        "\n",
        "fonte = pd.read_csv(NOME_ARQUIVO_FONTE, sep=',')\n"
      ],
      "execution_count": null,
      "outputs": []
    },
    {
      "cell_type": "code",
      "metadata": {
        "id": "2NKpI4h9Yq95",
        "colab": {
          "base_uri": "https://localhost:8080/",
          "height": 771
        },
        "outputId": "75330fba-d7bf-4121-b31a-d12ad91e79b6"
      },
      "source": [
        "# visualize os resultados\n",
        "# continue o codigo aqui\n",
        "fonte\n"
      ],
      "execution_count": null,
      "outputs": [
        {
          "output_type": "execute_result",
          "data": {
            "text/plain": [
              "                                                  FID   gid  \\\n",
              "0     vw_pib_percapita.fid-4514e25a_17aaa325034_-258f   215   \n",
              "1     vw_pib_percapita.fid-4514e25a_17aaa325034_-258e   306   \n",
              "2     vw_pib_percapita.fid-4514e25a_17aaa325034_-258d   900   \n",
              "3     vw_pib_percapita.fid-4514e25a_17aaa325034_-258c  3613   \n",
              "4     vw_pib_percapita.fid-4514e25a_17aaa325034_-258b  1028   \n",
              "...                                               ...   ...   \n",
              "5561   vw_pib_percapita.fid-4514e25a_17aaa325034_-eba  5254   \n",
              "5562   vw_pib_percapita.fid-4514e25a_17aaa325034_-eb9  2749   \n",
              "5563   vw_pib_percapita.fid-4514e25a_17aaa325034_-eb8  3779   \n",
              "5564   vw_pib_percapita.fid-4514e25a_17aaa325034_-eb7   617   \n",
              "5565   vw_pib_percapita.fid-4514e25a_17aaa325034_-eb6   672   \n",
              "\n",
              "                     UF              nome   Censo           PIB  Pop_est_2009  \\\n",
              "0                 BAHIA          Tremedal  2010.0  5.788399e+04         18433   \n",
              "1     RIO GRANDE DO SUL            Turuçu  2010.0  4.572388e+04          4000   \n",
              "2        ESPIRITO SANTO           Vitória  2010.0  1.978263e+07        320156   \n",
              "3          MINAS GERAIS         Jacutinga  2010.0  2.478160e+05         21424   \n",
              "4                 PIAUÍ           Nazária  2010.0  2.095138e+04          7895   \n",
              "...                 ...               ...     ...           ...           ...   \n",
              "5561     SANTA CATARINA         Campo Erê  2010.0  1.876289e+05          9737   \n",
              "5562             PARANÁ          Planalto  2010.0  1.385535e+05         13983   \n",
              "5563          SÃO PAULO        Guararapes  2010.0  5.320191e+05         29639   \n",
              "5564  RIO GRANDE DO SUL  Barra do Guarita  2010.0  2.198064e+04          3067   \n",
              "5565  RIO GRANDE DO SUL        Machadinho  2010.0  5.715017e+04          5623   \n",
              "\n",
              "      PIB_percapita                         Descrição               legenda  \\\n",
              "0       3140.239990  Produto Interno Bruto per capita             - 9639.65   \n",
              "1      11430.969727  Produto Interno Bruto per capita    9639.65 - 22144.80   \n",
              "2      61790.589844  Produto Interno Bruto per capita  52702.10 - 133669.00   \n",
              "3      11567.209961  Produto Interno Bruto per capita    9639.65 - 22144.80   \n",
              "4       2653.750000  Produto Interno Bruto per capita             - 9639.65   \n",
              "...             ...                               ...                   ...   \n",
              "5561   19269.679688  Produto Interno Bruto per capita    9639.65 - 22144.80   \n",
              "5562    9908.709961  Produto Interno Bruto per capita    9639.65 - 22144.80   \n",
              "5563   17949.970703  Produto Interno Bruto per capita    9639.65 - 22144.80   \n",
              "5564    7166.819824  Produto Interno Bruto per capita             - 9639.65   \n",
              "5565   10163.639648  Produto Interno Bruto per capita    9639.65 - 22144.80   \n",
              "\n",
              "      classe                                               geom  \n",
              "0          1  MULTIPOLYGON (((-41.458803305191566 -14.781415...  \n",
              "1          2  MULTIPOLYGON (((-52.035349932081274 -31.567509...  \n",
              "2          4  MULTIPOLYGON (((-40.3292566978242 -20.23997417...  \n",
              "3          2  MULTIPOLYGON (((-46.50528160015326 -22.3400120...  \n",
              "4          1  POLYGON ((-42.826685407155495 -5.3480291684437...  \n",
              "...      ...                                                ...  \n",
              "5561       2  MULTIPOLYGON (((-53.024131281087385 -26.361357...  \n",
              "5562       2  MULTIPOLYGON (((-53.61882711231503 -25.6460599...  \n",
              "5563       2  MULTIPOLYGON (((-50.70271677275949 -21.0257124...  \n",
              "5564       1  MULTIPOLYGON (((-53.778785810369236 -27.152703...  \n",
              "5565       2  MULTIPOLYGON (((-51.63183373195086 -27.4885374...  \n",
              "\n",
              "[5566 rows x 12 columns]"
            ],
            "text/html": [
              "\n",
              "  <div id=\"df-806eefa9-7573-489a-bd3d-a712324ec7fa\" class=\"colab-df-container\">\n",
              "    <div>\n",
              "<style scoped>\n",
              "    .dataframe tbody tr th:only-of-type {\n",
              "        vertical-align: middle;\n",
              "    }\n",
              "\n",
              "    .dataframe tbody tr th {\n",
              "        vertical-align: top;\n",
              "    }\n",
              "\n",
              "    .dataframe thead th {\n",
              "        text-align: right;\n",
              "    }\n",
              "</style>\n",
              "<table border=\"1\" class=\"dataframe\">\n",
              "  <thead>\n",
              "    <tr style=\"text-align: right;\">\n",
              "      <th></th>\n",
              "      <th>FID</th>\n",
              "      <th>gid</th>\n",
              "      <th>UF</th>\n",
              "      <th>nome</th>\n",
              "      <th>Censo</th>\n",
              "      <th>PIB</th>\n",
              "      <th>Pop_est_2009</th>\n",
              "      <th>PIB_percapita</th>\n",
              "      <th>Descrição</th>\n",
              "      <th>legenda</th>\n",
              "      <th>classe</th>\n",
              "      <th>geom</th>\n",
              "    </tr>\n",
              "  </thead>\n",
              "  <tbody>\n",
              "    <tr>\n",
              "      <th>0</th>\n",
              "      <td>vw_pib_percapita.fid-4514e25a_17aaa325034_-258f</td>\n",
              "      <td>215</td>\n",
              "      <td>BAHIA</td>\n",
              "      <td>Tremedal</td>\n",
              "      <td>2010.0</td>\n",
              "      <td>5.788399e+04</td>\n",
              "      <td>18433</td>\n",
              "      <td>3140.239990</td>\n",
              "      <td>Produto Interno Bruto per capita</td>\n",
              "      <td>- 9639.65</td>\n",
              "      <td>1</td>\n",
              "      <td>MULTIPOLYGON (((-41.458803305191566 -14.781415...</td>\n",
              "    </tr>\n",
              "    <tr>\n",
              "      <th>1</th>\n",
              "      <td>vw_pib_percapita.fid-4514e25a_17aaa325034_-258e</td>\n",
              "      <td>306</td>\n",
              "      <td>RIO GRANDE DO SUL</td>\n",
              "      <td>Turuçu</td>\n",
              "      <td>2010.0</td>\n",
              "      <td>4.572388e+04</td>\n",
              "      <td>4000</td>\n",
              "      <td>11430.969727</td>\n",
              "      <td>Produto Interno Bruto per capita</td>\n",
              "      <td>9639.65 - 22144.80</td>\n",
              "      <td>2</td>\n",
              "      <td>MULTIPOLYGON (((-52.035349932081274 -31.567509...</td>\n",
              "    </tr>\n",
              "    <tr>\n",
              "      <th>2</th>\n",
              "      <td>vw_pib_percapita.fid-4514e25a_17aaa325034_-258d</td>\n",
              "      <td>900</td>\n",
              "      <td>ESPIRITO SANTO</td>\n",
              "      <td>Vitória</td>\n",
              "      <td>2010.0</td>\n",
              "      <td>1.978263e+07</td>\n",
              "      <td>320156</td>\n",
              "      <td>61790.589844</td>\n",
              "      <td>Produto Interno Bruto per capita</td>\n",
              "      <td>52702.10 - 133669.00</td>\n",
              "      <td>4</td>\n",
              "      <td>MULTIPOLYGON (((-40.3292566978242 -20.23997417...</td>\n",
              "    </tr>\n",
              "    <tr>\n",
              "      <th>3</th>\n",
              "      <td>vw_pib_percapita.fid-4514e25a_17aaa325034_-258c</td>\n",
              "      <td>3613</td>\n",
              "      <td>MINAS GERAIS</td>\n",
              "      <td>Jacutinga</td>\n",
              "      <td>2010.0</td>\n",
              "      <td>2.478160e+05</td>\n",
              "      <td>21424</td>\n",
              "      <td>11567.209961</td>\n",
              "      <td>Produto Interno Bruto per capita</td>\n",
              "      <td>9639.65 - 22144.80</td>\n",
              "      <td>2</td>\n",
              "      <td>MULTIPOLYGON (((-46.50528160015326 -22.3400120...</td>\n",
              "    </tr>\n",
              "    <tr>\n",
              "      <th>4</th>\n",
              "      <td>vw_pib_percapita.fid-4514e25a_17aaa325034_-258b</td>\n",
              "      <td>1028</td>\n",
              "      <td>PIAUÍ</td>\n",
              "      <td>Nazária</td>\n",
              "      <td>2010.0</td>\n",
              "      <td>2.095138e+04</td>\n",
              "      <td>7895</td>\n",
              "      <td>2653.750000</td>\n",
              "      <td>Produto Interno Bruto per capita</td>\n",
              "      <td>- 9639.65</td>\n",
              "      <td>1</td>\n",
              "      <td>POLYGON ((-42.826685407155495 -5.3480291684437...</td>\n",
              "    </tr>\n",
              "    <tr>\n",
              "      <th>...</th>\n",
              "      <td>...</td>\n",
              "      <td>...</td>\n",
              "      <td>...</td>\n",
              "      <td>...</td>\n",
              "      <td>...</td>\n",
              "      <td>...</td>\n",
              "      <td>...</td>\n",
              "      <td>...</td>\n",
              "      <td>...</td>\n",
              "      <td>...</td>\n",
              "      <td>...</td>\n",
              "      <td>...</td>\n",
              "    </tr>\n",
              "    <tr>\n",
              "      <th>5561</th>\n",
              "      <td>vw_pib_percapita.fid-4514e25a_17aaa325034_-eba</td>\n",
              "      <td>5254</td>\n",
              "      <td>SANTA CATARINA</td>\n",
              "      <td>Campo Erê</td>\n",
              "      <td>2010.0</td>\n",
              "      <td>1.876289e+05</td>\n",
              "      <td>9737</td>\n",
              "      <td>19269.679688</td>\n",
              "      <td>Produto Interno Bruto per capita</td>\n",
              "      <td>9639.65 - 22144.80</td>\n",
              "      <td>2</td>\n",
              "      <td>MULTIPOLYGON (((-53.024131281087385 -26.361357...</td>\n",
              "    </tr>\n",
              "    <tr>\n",
              "      <th>5562</th>\n",
              "      <td>vw_pib_percapita.fid-4514e25a_17aaa325034_-eb9</td>\n",
              "      <td>2749</td>\n",
              "      <td>PARANÁ</td>\n",
              "      <td>Planalto</td>\n",
              "      <td>2010.0</td>\n",
              "      <td>1.385535e+05</td>\n",
              "      <td>13983</td>\n",
              "      <td>9908.709961</td>\n",
              "      <td>Produto Interno Bruto per capita</td>\n",
              "      <td>9639.65 - 22144.80</td>\n",
              "      <td>2</td>\n",
              "      <td>MULTIPOLYGON (((-53.61882711231503 -25.6460599...</td>\n",
              "    </tr>\n",
              "    <tr>\n",
              "      <th>5563</th>\n",
              "      <td>vw_pib_percapita.fid-4514e25a_17aaa325034_-eb8</td>\n",
              "      <td>3779</td>\n",
              "      <td>SÃO PAULO</td>\n",
              "      <td>Guararapes</td>\n",
              "      <td>2010.0</td>\n",
              "      <td>5.320191e+05</td>\n",
              "      <td>29639</td>\n",
              "      <td>17949.970703</td>\n",
              "      <td>Produto Interno Bruto per capita</td>\n",
              "      <td>9639.65 - 22144.80</td>\n",
              "      <td>2</td>\n",
              "      <td>MULTIPOLYGON (((-50.70271677275949 -21.0257124...</td>\n",
              "    </tr>\n",
              "    <tr>\n",
              "      <th>5564</th>\n",
              "      <td>vw_pib_percapita.fid-4514e25a_17aaa325034_-eb7</td>\n",
              "      <td>617</td>\n",
              "      <td>RIO GRANDE DO SUL</td>\n",
              "      <td>Barra do Guarita</td>\n",
              "      <td>2010.0</td>\n",
              "      <td>2.198064e+04</td>\n",
              "      <td>3067</td>\n",
              "      <td>7166.819824</td>\n",
              "      <td>Produto Interno Bruto per capita</td>\n",
              "      <td>- 9639.65</td>\n",
              "      <td>1</td>\n",
              "      <td>MULTIPOLYGON (((-53.778785810369236 -27.152703...</td>\n",
              "    </tr>\n",
              "    <tr>\n",
              "      <th>5565</th>\n",
              "      <td>vw_pib_percapita.fid-4514e25a_17aaa325034_-eb6</td>\n",
              "      <td>672</td>\n",
              "      <td>RIO GRANDE DO SUL</td>\n",
              "      <td>Machadinho</td>\n",
              "      <td>2010.0</td>\n",
              "      <td>5.715017e+04</td>\n",
              "      <td>5623</td>\n",
              "      <td>10163.639648</td>\n",
              "      <td>Produto Interno Bruto per capita</td>\n",
              "      <td>9639.65 - 22144.80</td>\n",
              "      <td>2</td>\n",
              "      <td>MULTIPOLYGON (((-51.63183373195086 -27.4885374...</td>\n",
              "    </tr>\n",
              "  </tbody>\n",
              "</table>\n",
              "<p>5566 rows × 12 columns</p>\n",
              "</div>\n",
              "    <div class=\"colab-df-buttons\">\n",
              "\n",
              "  <div class=\"colab-df-container\">\n",
              "    <button class=\"colab-df-convert\" onclick=\"convertToInteractive('df-806eefa9-7573-489a-bd3d-a712324ec7fa')\"\n",
              "            title=\"Convert this dataframe to an interactive table.\"\n",
              "            style=\"display:none;\">\n",
              "\n",
              "  <svg xmlns=\"http://www.w3.org/2000/svg\" height=\"24px\" viewBox=\"0 -960 960 960\">\n",
              "    <path d=\"M120-120v-720h720v720H120Zm60-500h600v-160H180v160Zm220 220h160v-160H400v160Zm0 220h160v-160H400v160ZM180-400h160v-160H180v160Zm440 0h160v-160H620v160ZM180-180h160v-160H180v160Zm440 0h160v-160H620v160Z\"/>\n",
              "  </svg>\n",
              "    </button>\n",
              "\n",
              "  <style>\n",
              "    .colab-df-container {\n",
              "      display:flex;\n",
              "      gap: 12px;\n",
              "    }\n",
              "\n",
              "    .colab-df-convert {\n",
              "      background-color: #E8F0FE;\n",
              "      border: none;\n",
              "      border-radius: 50%;\n",
              "      cursor: pointer;\n",
              "      display: none;\n",
              "      fill: #1967D2;\n",
              "      height: 32px;\n",
              "      padding: 0 0 0 0;\n",
              "      width: 32px;\n",
              "    }\n",
              "\n",
              "    .colab-df-convert:hover {\n",
              "      background-color: #E2EBFA;\n",
              "      box-shadow: 0px 1px 2px rgba(60, 64, 67, 0.3), 0px 1px 3px 1px rgba(60, 64, 67, 0.15);\n",
              "      fill: #174EA6;\n",
              "    }\n",
              "\n",
              "    .colab-df-buttons div {\n",
              "      margin-bottom: 4px;\n",
              "    }\n",
              "\n",
              "    [theme=dark] .colab-df-convert {\n",
              "      background-color: #3B4455;\n",
              "      fill: #D2E3FC;\n",
              "    }\n",
              "\n",
              "    [theme=dark] .colab-df-convert:hover {\n",
              "      background-color: #434B5C;\n",
              "      box-shadow: 0px 1px 3px 1px rgba(0, 0, 0, 0.15);\n",
              "      filter: drop-shadow(0px 1px 2px rgba(0, 0, 0, 0.3));\n",
              "      fill: #FFFFFF;\n",
              "    }\n",
              "  </style>\n",
              "\n",
              "    <script>\n",
              "      const buttonEl =\n",
              "        document.querySelector('#df-806eefa9-7573-489a-bd3d-a712324ec7fa button.colab-df-convert');\n",
              "      buttonEl.style.display =\n",
              "        google.colab.kernel.accessAllowed ? 'block' : 'none';\n",
              "\n",
              "      async function convertToInteractive(key) {\n",
              "        const element = document.querySelector('#df-806eefa9-7573-489a-bd3d-a712324ec7fa');\n",
              "        const dataTable =\n",
              "          await google.colab.kernel.invokeFunction('convertToInteractive',\n",
              "                                                    [key], {});\n",
              "        if (!dataTable) return;\n",
              "\n",
              "        const docLinkHtml = 'Like what you see? Visit the ' +\n",
              "          '<a target=\"_blank\" href=https://colab.research.google.com/notebooks/data_table.ipynb>data table notebook</a>'\n",
              "          + ' to learn more about interactive tables.';\n",
              "        element.innerHTML = '';\n",
              "        dataTable['output_type'] = 'display_data';\n",
              "        await google.colab.output.renderOutput(dataTable, element);\n",
              "        const docLink = document.createElement('div');\n",
              "        docLink.innerHTML = docLinkHtml;\n",
              "        element.appendChild(docLink);\n",
              "      }\n",
              "    </script>\n",
              "  </div>\n",
              "\n",
              "\n",
              "<div id=\"df-ee0332fd-c182-4698-959e-bc8e2d934b79\">\n",
              "  <button class=\"colab-df-quickchart\" onclick=\"quickchart('df-ee0332fd-c182-4698-959e-bc8e2d934b79')\"\n",
              "            title=\"Suggest charts\"\n",
              "            style=\"display:none;\">\n",
              "\n",
              "<svg xmlns=\"http://www.w3.org/2000/svg\" height=\"24px\"viewBox=\"0 0 24 24\"\n",
              "     width=\"24px\">\n",
              "    <g>\n",
              "        <path d=\"M19 3H5c-1.1 0-2 .9-2 2v14c0 1.1.9 2 2 2h14c1.1 0 2-.9 2-2V5c0-1.1-.9-2-2-2zM9 17H7v-7h2v7zm4 0h-2V7h2v10zm4 0h-2v-4h2v4z\"/>\n",
              "    </g>\n",
              "</svg>\n",
              "  </button>\n",
              "\n",
              "<style>\n",
              "  .colab-df-quickchart {\n",
              "      --bg-color: #E8F0FE;\n",
              "      --fill-color: #1967D2;\n",
              "      --hover-bg-color: #E2EBFA;\n",
              "      --hover-fill-color: #174EA6;\n",
              "      --disabled-fill-color: #AAA;\n",
              "      --disabled-bg-color: #DDD;\n",
              "  }\n",
              "\n",
              "  [theme=dark] .colab-df-quickchart {\n",
              "      --bg-color: #3B4455;\n",
              "      --fill-color: #D2E3FC;\n",
              "      --hover-bg-color: #434B5C;\n",
              "      --hover-fill-color: #FFFFFF;\n",
              "      --disabled-bg-color: #3B4455;\n",
              "      --disabled-fill-color: #666;\n",
              "  }\n",
              "\n",
              "  .colab-df-quickchart {\n",
              "    background-color: var(--bg-color);\n",
              "    border: none;\n",
              "    border-radius: 50%;\n",
              "    cursor: pointer;\n",
              "    display: none;\n",
              "    fill: var(--fill-color);\n",
              "    height: 32px;\n",
              "    padding: 0;\n",
              "    width: 32px;\n",
              "  }\n",
              "\n",
              "  .colab-df-quickchart:hover {\n",
              "    background-color: var(--hover-bg-color);\n",
              "    box-shadow: 0 1px 2px rgba(60, 64, 67, 0.3), 0 1px 3px 1px rgba(60, 64, 67, 0.15);\n",
              "    fill: var(--button-hover-fill-color);\n",
              "  }\n",
              "\n",
              "  .colab-df-quickchart-complete:disabled,\n",
              "  .colab-df-quickchart-complete:disabled:hover {\n",
              "    background-color: var(--disabled-bg-color);\n",
              "    fill: var(--disabled-fill-color);\n",
              "    box-shadow: none;\n",
              "  }\n",
              "\n",
              "  .colab-df-spinner {\n",
              "    border: 2px solid var(--fill-color);\n",
              "    border-color: transparent;\n",
              "    border-bottom-color: var(--fill-color);\n",
              "    animation:\n",
              "      spin 1s steps(1) infinite;\n",
              "  }\n",
              "\n",
              "  @keyframes spin {\n",
              "    0% {\n",
              "      border-color: transparent;\n",
              "      border-bottom-color: var(--fill-color);\n",
              "      border-left-color: var(--fill-color);\n",
              "    }\n",
              "    20% {\n",
              "      border-color: transparent;\n",
              "      border-left-color: var(--fill-color);\n",
              "      border-top-color: var(--fill-color);\n",
              "    }\n",
              "    30% {\n",
              "      border-color: transparent;\n",
              "      border-left-color: var(--fill-color);\n",
              "      border-top-color: var(--fill-color);\n",
              "      border-right-color: var(--fill-color);\n",
              "    }\n",
              "    40% {\n",
              "      border-color: transparent;\n",
              "      border-right-color: var(--fill-color);\n",
              "      border-top-color: var(--fill-color);\n",
              "    }\n",
              "    60% {\n",
              "      border-color: transparent;\n",
              "      border-right-color: var(--fill-color);\n",
              "    }\n",
              "    80% {\n",
              "      border-color: transparent;\n",
              "      border-right-color: var(--fill-color);\n",
              "      border-bottom-color: var(--fill-color);\n",
              "    }\n",
              "    90% {\n",
              "      border-color: transparent;\n",
              "      border-bottom-color: var(--fill-color);\n",
              "    }\n",
              "  }\n",
              "</style>\n",
              "\n",
              "  <script>\n",
              "    async function quickchart(key) {\n",
              "      const quickchartButtonEl =\n",
              "        document.querySelector('#' + key + ' button');\n",
              "      quickchartButtonEl.disabled = true;  // To prevent multiple clicks.\n",
              "      quickchartButtonEl.classList.add('colab-df-spinner');\n",
              "      try {\n",
              "        const charts = await google.colab.kernel.invokeFunction(\n",
              "            'suggestCharts', [key], {});\n",
              "      } catch (error) {\n",
              "        console.error('Error during call to suggestCharts:', error);\n",
              "      }\n",
              "      quickchartButtonEl.classList.remove('colab-df-spinner');\n",
              "      quickchartButtonEl.classList.add('colab-df-quickchart-complete');\n",
              "    }\n",
              "    (() => {\n",
              "      let quickchartButtonEl =\n",
              "        document.querySelector('#df-ee0332fd-c182-4698-959e-bc8e2d934b79 button');\n",
              "      quickchartButtonEl.style.display =\n",
              "        google.colab.kernel.accessAllowed ? 'block' : 'none';\n",
              "    })();\n",
              "  </script>\n",
              "</div>\n",
              "\n",
              "  <div id=\"id_7f5a4cec-8f26-4305-879d-ac2d4c35308c\">\n",
              "    <style>\n",
              "      .colab-df-generate {\n",
              "        background-color: #E8F0FE;\n",
              "        border: none;\n",
              "        border-radius: 50%;\n",
              "        cursor: pointer;\n",
              "        display: none;\n",
              "        fill: #1967D2;\n",
              "        height: 32px;\n",
              "        padding: 0 0 0 0;\n",
              "        width: 32px;\n",
              "      }\n",
              "\n",
              "      .colab-df-generate:hover {\n",
              "        background-color: #E2EBFA;\n",
              "        box-shadow: 0px 1px 2px rgba(60, 64, 67, 0.3), 0px 1px 3px 1px rgba(60, 64, 67, 0.15);\n",
              "        fill: #174EA6;\n",
              "      }\n",
              "\n",
              "      [theme=dark] .colab-df-generate {\n",
              "        background-color: #3B4455;\n",
              "        fill: #D2E3FC;\n",
              "      }\n",
              "\n",
              "      [theme=dark] .colab-df-generate:hover {\n",
              "        background-color: #434B5C;\n",
              "        box-shadow: 0px 1px 3px 1px rgba(0, 0, 0, 0.15);\n",
              "        filter: drop-shadow(0px 1px 2px rgba(0, 0, 0, 0.3));\n",
              "        fill: #FFFFFF;\n",
              "      }\n",
              "    </style>\n",
              "    <button class=\"colab-df-generate\" onclick=\"generateWithVariable('fonte')\"\n",
              "            title=\"Generate code using this dataframe.\"\n",
              "            style=\"display:none;\">\n",
              "\n",
              "  <svg xmlns=\"http://www.w3.org/2000/svg\" height=\"24px\"viewBox=\"0 0 24 24\"\n",
              "       width=\"24px\">\n",
              "    <path d=\"M7,19H8.4L18.45,9,17,7.55,7,17.6ZM5,21V16.75L18.45,3.32a2,2,0,0,1,2.83,0l1.4,1.43a1.91,1.91,0,0,1,.58,1.4,1.91,1.91,0,0,1-.58,1.4L9.25,21ZM18.45,9,17,7.55Zm-12,3A5.31,5.31,0,0,0,4.9,8.1,5.31,5.31,0,0,0,1,6.5,5.31,5.31,0,0,0,4.9,4.9,5.31,5.31,0,0,0,6.5,1,5.31,5.31,0,0,0,8.1,4.9,5.31,5.31,0,0,0,12,6.5,5.46,5.46,0,0,0,6.5,12Z\"/>\n",
              "  </svg>\n",
              "    </button>\n",
              "    <script>\n",
              "      (() => {\n",
              "      const buttonEl =\n",
              "        document.querySelector('#id_7f5a4cec-8f26-4305-879d-ac2d4c35308c button.colab-df-generate');\n",
              "      buttonEl.style.display =\n",
              "        google.colab.kernel.accessAllowed ? 'block' : 'none';\n",
              "\n",
              "      buttonEl.onclick = () => {\n",
              "        google.colab.notebook.generateWithVariable('fonte');\n",
              "      }\n",
              "      })();\n",
              "    </script>\n",
              "  </div>\n",
              "\n",
              "    </div>\n",
              "  </div>\n"
            ],
            "application/vnd.google.colaboratory.intrinsic+json": {
              "type": "dataframe",
              "variable_name": "fonte",
              "summary": "{\n  \"name\": \"fonte\",\n  \"rows\": 5566,\n  \"fields\": [\n    {\n      \"column\": \"FID\",\n      \"properties\": {\n        \"dtype\": \"string\",\n        \"num_unique_values\": 5566,\n        \"samples\": [\n          \"vw_pib_percapita.fid-4514e25a_17aaa325034_-231d\",\n          \"vw_pib_percapita.fid-4514e25a_17aaa325034_-1838\",\n          \"vw_pib_percapita.fid-4514e25a_17aaa325034_-1915\"\n        ],\n        \"semantic_type\": \"\",\n        \"description\": \"\"\n      }\n    },\n    {\n      \"column\": \"gid\",\n      \"properties\": {\n        \"dtype\": \"number\",\n        \"std\": 1607,\n        \"min\": 1,\n        \"max\": 5568,\n        \"num_unique_values\": 5566,\n        \"samples\": [\n          1944,\n          4652,\n          2949\n        ],\n        \"semantic_type\": \"\",\n        \"description\": \"\"\n      }\n    },\n    {\n      \"column\": \"UF\",\n      \"properties\": {\n        \"dtype\": \"category\",\n        \"num_unique_values\": 27,\n        \"samples\": [\n          \"SERGIPE\",\n          \"SANTA CATARINA\",\n          \"S\\u00c3O PAULO\"\n        ],\n        \"semantic_type\": \"\",\n        \"description\": \"\"\n      }\n    },\n    {\n      \"column\": \"nome\",\n      \"properties\": {\n        \"dtype\": \"string\",\n        \"num_unique_values\": 5293,\n        \"samples\": [\n          \"Joca Marques\",\n          \"Governador Dix-Sept Rosado\",\n          \"Ipiranga do Norte\"\n        ],\n        \"semantic_type\": \"\",\n        \"description\": \"\"\n      }\n    },\n    {\n      \"column\": \"Censo\",\n      \"properties\": {\n        \"dtype\": \"number\",\n        \"std\": 0.08993164878082845,\n        \"min\": 2007.0,\n        \"max\": 2010.0,\n        \"num_unique_values\": 2,\n        \"samples\": [\n          2007.0,\n          2010.0\n        ],\n        \"semantic_type\": \"\",\n        \"description\": \"\"\n      }\n    },\n    {\n      \"column\": \"PIB\",\n      \"properties\": {\n        \"dtype\": \"number\",\n        \"std\": 6345809.3661113735,\n        \"min\": 5770.28222656,\n        \"max\": 389317152.0,\n        \"num_unique_values\": 5564,\n        \"samples\": [\n          196890.15625,\n          16585137.0\n        ],\n        \"semantic_type\": \"\",\n        \"description\": \"\"\n      }\n    },\n    {\n      \"column\": \"Pop_est_2009\",\n      \"properties\": {\n        \"dtype\": \"number\",\n        \"std\": 201785,\n        \"min\": 837,\n        \"max\": 11037593,\n        \"num_unique_values\": 5076,\n        \"samples\": [\n          11632,\n          25270\n        ],\n        \"semantic_type\": \"\",\n        \"description\": \"\"\n      }\n    },\n    {\n      \"column\": \"PIB_percapita\",\n      \"properties\": {\n        \"dtype\": \"number\",\n        \"std\": 12149.589184416922,\n        \"min\": 1929.9699707,\n        \"max\": 360815.84375,\n        \"num_unique_values\": 5554,\n        \"samples\": [\n          12149.23046875,\n          14802.45019531\n        ],\n        \"semantic_type\": \"\",\n        \"description\": \"\"\n      }\n    },\n    {\n      \"column\": \"Descri\\u00e7\\u00e3o\",\n      \"properties\": {\n        \"dtype\": \"category\",\n        \"num_unique_values\": 1,\n        \"samples\": [\n          \"Produto Interno Bruto per capita\"\n        ],\n        \"semantic_type\": \"\",\n        \"description\": \"\"\n      }\n    },\n    {\n      \"column\": \"legenda\",\n      \"properties\": {\n        \"dtype\": \"category\",\n        \"num_unique_values\": 5,\n        \"samples\": [\n          \"9639.65 - 22144.80\"\n        ],\n        \"semantic_type\": \"\",\n        \"description\": \"\"\n      }\n    },\n    {\n      \"column\": \"classe\",\n      \"properties\": {\n        \"dtype\": \"number\",\n        \"std\": 0,\n        \"min\": 1,\n        \"max\": 5,\n        \"num_unique_values\": 5,\n        \"samples\": [\n          2\n        ],\n        \"semantic_type\": \"\",\n        \"description\": \"\"\n      }\n    },\n    {\n      \"column\": \"geom\",\n      \"properties\": {\n        \"dtype\": \"string\",\n        \"num_unique_values\": 5565,\n        \"samples\": [\n          \"MULTIPOLYGON (((-43.045402854596084 -22.207418625111973, -43.04785857489227 -22.20808836701089, -43.049756176939404 -22.209874345408153, -43.05210027358579 -22.211548700155625, -43.053663004683386 -22.213223054903008, -43.05623034862945 -22.2147857860006, -43.06002555272355 -22.216125269798525, -43.063932380467534 -22.21735312994666, -43.06906706835966 -22.219250731993714, -43.07241577785451 -22.220701839441514, -43.076210981948606 -22.223269183387572, -43.0777737130462 -22.22561328003396, -43.08011780969259 -22.22851549492948, -43.082908400938315 -22.229854978727403, -43.088986554269276 -22.23673235126242, -43.093566301341426 -22.241698672808162, -43.093587569408115 -22.242755592029905, -43.09348199709581 -22.244003811436407, -43.0926833451744 -22.24488702031293, -43.09248638825403 -22.246283414714906, -43.092596766543295 -22.247717085115703, -43.091426852904526 -22.248745091134236, -43.09073284159797 -22.249669971895546, -43.09056811817782 -22.25015829476427, -43.09064602104927 -22.25029360675681, -43.09176023787616 -22.252197565022346, -43.09259261527286 -22.254222833735614, -43.091879809934454 -22.255647482137885, -43.09112508449835 -22.257817299780335, -43.09004416686828 -22.260189267028554, -43.090120724353966 -22.261085814649405, -43.09136909934322 -22.262755318762494, -43.09281526222635 -22.264420982770638, -43.094704164941746 -22.26587436631029, -43.09662634886747 -22.265563896963435, -43.098173594647406 -22.264936176482244, -43.099817329587125 -22.263821822958473, -43.1009585566518 -22.264030171590953, -43.101264931385465 -22.26496155894717, -43.10154617456506 -22.266461845728024, -43.101650766616345 -22.269595271636366, -43.102012391198976 -22.271571599244954, -43.10321032051756 -22.273899256896733, -43.10467553643718 -22.274182540637998, -43.105926126456545 -22.274746704232776, -43.106287354438116 -22.277088545092315, -43.10612406723516 -22.279432235857243, -43.107097979033654 -22.28089547326839, -43.10867873355231 -22.281629480123687, -43.10907015717027 -22.281811394084382, -43.110174396019254 -22.283337635299038, -43.11098497025269 -22.282578186623535, -43.11212301281811 -22.281835932985338, -43.113758167326345 -22.281292369260996, -43.11462189149178 -22.28047489093232, -43.11562726607137 -22.27981120026794, -43.117261738893525 -22.280070821947206, -43.118151359036766 -22.279630367292146, -43.11915386927576 -22.279375677494894, -43.12045293005445 -22.2791851552236, -43.121349179999726 -22.27829934280987, -43.121761127945085 -22.276640645849554, -43.1231517388071 -22.27540411223343, -43.1246814900756 -22.275745884282227, -43.125136017321665 -22.275531620808774, -43.12682274884767 -22.274737200197524, -43.127480644280915 -22.275529556864736, -43.128186210076926 -22.27694380460765, -43.12899362679077 -22.278560925011192, -43.12970804731157 -22.280260172401814, -43.12997970821493 -22.281351558140305, -43.130018932145255 -22.28150928033854, -43.13079317197004 -22.28244395201886, -43.131792879921576 -22.282573265533422, -43.13292707518737 -22.28314743228712, -43.13398050683817 -22.28433144999331, -43.134109303242646 -22.284861525685805, -43.134290030997626 -22.285610791337906, -43.134345794359376 -22.287261216334223, -43.13515779132034 -22.288323203235482, -43.136039109821894 -22.289245330272877, -43.13660009431329 -22.290531473190022, -43.13698942341025 -22.292295764945735, -43.13731704013031 -22.293182232065977, -43.13718115437033 -22.29429754966292, -43.13787519265655 -22.29475350233454, -43.13946069739428 -22.29426080696213, -43.140731297328784 -22.294174381215836, -43.14126507103349 -22.2949505258047, -43.14184908266543 -22.29556949947986, -43.143925427474144 -22.295891978373138, -43.14517985939719 -22.297045566619133, -43.14587800039056 -22.298171364015683, -43.146180602468355 -22.299527847405386, -43.14549042587088 -22.303004144334015, -43.14593427996321 -22.304059675901854, -43.14753764343773 -22.305057093280144, -43.14868257031317 -22.305247659618143, -43.14990463113984 -22.305907839329308, -43.15100777911112 -22.3074794270586, -43.15204166849429 -22.30707418355904, -43.15287296580529 -22.30627306209938, -43.15410242985087 -22.30597967087775, -43.155489979420786 -22.30630299963041, -43.1565966086676 -22.30694661562842, -43.15742864432202 -22.308116016653678, -43.15859317731712 -22.309513308579042, -43.159710055237845 -22.310673850382944, -43.16109782154434 -22.310845587615646, -43.16212088848617 -22.310217546076426, -43.16517953756641 -22.309277818407768, -43.16634506251371 -22.308818734296864, -43.16740427950321 -22.309210405228374, -43.169210728777735 -22.3093659636578, -43.17087228917944 -22.309046514580388, -43.17292704306488 -22.309262078473612, -43.173648605101846 -22.31010317299875, -43.17398582568184 -22.311293460778113, -43.174380262028535 -22.312087158334325, -43.18153921601389 -22.30000668711105, -43.17750022222602 -22.29847222222221, -43.1776075697321 -22.298402154248123, -43.17836382164031 -22.298024423608375, -43.17886216712297 -22.29776083767938, -43.17938101636495 -22.297465126108328, -43.17989234168836 -22.297143746422265, -43.180374776828195 -22.296798957514884, -43.18080992064206 -22.296429468892875, -43.18117964873696 -22.296030834007684, -43.18142300668045 -22.295673186234776, -43.18161846887612 -22.295234451724813, -43.181737789110436 -22.294722407820643, -43.18177983343854 -22.294188865608987, -43.181766249602084 -22.293641422113385, -43.18171323995484 -22.29308543818187, -43.18163258888954 -22.29252459500446, -43.18153265346028 -22.29196136716134, -43.18141919039422 -22.291397394372424, -43.18116536909256 -22.290271208207656, -43.180885377712876 -22.289151435593023, -43.180735489172896 -22.288595156414836, -43.18057727774414 -22.28804199551606, -43.18022544468936 -22.28691938513727, -43.179851160968454 -22.285805902543768, -43.17870530308574 -22.282479731151493, -43.17834294835988 -22.28136465132897, -43.1781720889076 -22.280803305847673, -43.17786616527424 -22.279706533744758, -43.177581176973106 -22.2785984947792, -43.176609026209746 -22.274618681981927, -43.17630995065867 -22.27343870077061, -43.17598450778531 -22.27223716363833, -43.17580694789789 -22.271631976094962, -43.17561600849174 -22.271029045938228, -43.17540872011576 -22.27043581627488, -43.17518250801125 -22.269864058078802, -43.1749368559498 -22.2693314221859, -43.174698365567515 -22.268893520080212, -43.17447170357691 -22.268532585893674, -43.17428948691338 -22.26828239666505, -43.17419466667043 -22.268194444444433, -43.174747216062094 -22.267197141939764, -43.17497056115607 -22.266762413631124, -43.17519039679714 -22.266301519652142, -43.17539697733728 -22.265826220156736, -43.17558215960511 -22.265344182986468, -43.175738166416934 -22.264860169474353, -43.17585668045925 -22.264376898298565, -43.175928133058555 -22.26389566677176, -43.17594517388011 -22.26341936150329, -43.175914618489976 -22.262947304284463, -43.17584437497009 -22.262480996632416, -43.17573986898782 -22.26202171355276, -43.175589124388004 -22.26152049510024, -43.17541209907563 -22.26102708399724, -43.17521838759304 -22.260539312035842, -43.17460843041584 -22.259089980718393, -43.17441543474137 -22.25860493998113, -43.17416369575873 -22.257904770383895, -43.1739011055758 -22.25706073521423, -43.17376550639059 -22.256566840191393, -43.17352691509045 -22.255571600658385, -43.173424783282634 -22.255070370526763, -43.17333634382963 -22.254566417259912, -43.17326115426075 -22.254043321739946, -43.17319912538742 -22.253517335977534, -43.173101155758836 -22.252457859018214, -43.172955916193935 -22.250307132861312, -43.17286562199906 -22.248653571383347, -43.17281409498022 -22.247522480596714, -43.17277697974844 -22.246364626507308, -43.172768163405586 -22.245777126202547, -43.17276959229291 -22.245187142696853, -43.17278522331214 -22.244599965834876, -43.17281986165944 -22.244024661911443, -43.17286156177338 -22.243605630420426, -43.17291730837494 -22.2432110450969, -43.17298649498942 -22.242853759641722, -43.173076116387726 -22.24251560207746, -43.17316165467875 -22.242280199051855, -43.173222444448236 -22.24219444444444, -43.171595884811836 -22.239001296445448, -43.17086520733553 -22.2374959387418, -43.170001587855694 -22.235593960318333, -43.166477905530215 -22.227674376798422, -43.165760187364334 -22.226114975351873, -43.1646391111149 -22.223749999999963, -43.16462069883982 -22.223757757778472, -43.16453768003271 -22.22371471088149, -43.16441485291498 -22.2236224471817, -43.16425677034902 -22.223478178901978, -43.16409185760369 -22.223304132853116, -43.163930534857236 -22.223111614010737, -43.163780068189396 -22.222908677207553, -43.163646342485464 -22.222700978877906, -43.16353502366011 -22.22249251710393, -43.16345237288979 -22.22228623133049, -43.16340288287806 -22.222073090233987, -43.16339593730425 -22.221871500663525, -43.16343607920117 -22.22168818525827, -43.16348190150623 -22.221595079543754, -43.163543539325616 -22.22151087565669, -43.16368647970266 -22.221383278300276, -43.16386083303408 -22.221276652607823, -43.164055118842406 -22.22118274628324, -43.164467702576964 -22.221004930173496, -43.1646707976364 -22.220907774090314, -43.16486198408014 -22.220795781232127, -43.164998201801865 -22.22069356183216, -43.165119916169964 -22.220577518642617, -43.1652241324779 -22.220447175460233, -43.16532836455474 -22.220260860500062, -43.16540707469289 -22.22005611809712, -43.1654670740389 -22.219837945129605, -43.16555030575056 -22.219375274645103, -43.16560554546132 -22.218892259992653, -43.16564760962183 -22.218398720222886, -43.1657659036969 -22.216623400434198, -43.16580799423 -22.215560831159674, -43.165800607428345 -22.21501309274434, -43.165755506940734 -22.21448924748952, -43.16568002648525 -22.21401451173055, -43.16555577778156 -22.213444444444463, -43.1654898559041 -22.213437625552167, -43.165341427435294 -22.21339088062477, -43.16514534305287 -22.21331025671589, -43.164926855268384 -22.21319839305924, -43.164704282981205 -22.213055811380066, -43.16447169157303 -22.21286633420798, -43.16425323163267 -22.212648763541875, -43.164048708452235 -22.21241169688144, -43.16385684025233 -22.212161816010333, -43.16350571019654 -22.21164105962059, -43.16319301393121 -22.211107343324365, -43.16305124353979 -22.210837619631207, -43.162920559261366 -22.21056571479869, -43.16280291429107 -22.21029080815582, -43.16269600123284 -22.210001100598053, -43.162516280637455 -22.209413614646788, -43.16229170457438 -22.208524127182926, -43.15947229750381 -22.204804219472262, -43.15909150957116 -22.204020493613474, -43.158818780583324 -22.2029295776623, -43.158818780583324 -22.20187502557611, -43.15858923552179 -22.200386335172805, -43.16059846121872 -22.198042238526416, -43.16249606326577 -22.195363270930567, -43.1660680200603 -22.189000722890317, -43.167565149120925 -22.18687339898475, -43.167037645696965 -22.186555264096274, -43.16608912715539 -22.185987497817482, -43.1648739659273 -22.185260469701106, -43.163982010244744 -22.185066427483523, -43.163239221509954 -22.18490445778738, -43.161183827307205 -22.184832889740246, -43.159375320383965 -22.185212603286097, -43.15786472017807 -22.185962248452128, -43.15701426550925 -22.186573330576497, -43.155815911710654 -22.187983613208594, -43.15512057030673 -22.189801384048135, -43.154794516608376 -22.190369314003465, -43.15446370010059 -22.190623089190375, -43.152065774821274 -22.191455244454627, -43.14923663092425 -22.19183106033873, -43.146785149219504 -22.19246345639514, -43.14568177911569 -22.19239984644876, -43.14484981360836 -22.192496724115717, -43.144289931685755 -22.19268281003137, -43.14192512304094 -22.194087567228962, -43.13951912274923 -22.194159355609887, -43.13842689704397 -22.194552014896395, -43.13706670934683 -22.194552581469228, -43.13542932002333 -22.194354803467874, -43.134432262373814 -22.194049367626455, -43.133368729537885 -22.19333657307987, -43.13173489253646 -22.19098324158273, -43.13123330196987 -22.190807583306004, -43.130791135005666 -22.190867635534527, -43.128628659428216 -22.19167032361311, -43.12795579927644 -22.192195718334528, -43.126927668252215 -22.19328791346282, -43.12537582333947 -22.1938641792341, -43.12249009769764 -22.197221497656926, -43.121015931725154 -22.198533871099734, -43.11904964055047 -22.19914960541687, -43.114096041713395 -22.20012020771025, -43.11098443605546 -22.200012180248784, -43.10848797386001 -22.199472184134915, -43.10693565050801 -22.19871987068045, -43.1062875235106 -22.198142211859405, -43.10562271049237 -22.196196793049626, -43.104518828674244 -22.19427144171171, -43.10429391093265 -22.1924201351537, -43.10395386917949 -22.191906490074697, -43.10323829123131 -22.19162035818052, -43.10226212033599 -22.19167094684329, -43.10082518000029 -22.192143993827983, -43.09946247330215 -22.19241331919204, -43.09773102658556 -22.19237479943088, -43.096734992364595 -22.192231484371682, -43.09488344119097 -22.190830866753352, -43.09457321735901 -22.190595538459966, -43.095042341501035 -22.188386255868963, -43.094956203537784 -22.18737321007238, -43.09442540479025 -22.184834039073852, -43.09400816253617 -22.18369127147055, -43.09323039557023 -22.18306938758927, -43.09126976922504 -22.18243180334405, -43.09032183434352 -22.182233706982778, -43.08940417064134 -22.18228275420755, -43.087760460882635 -22.18328761617363, -43.08729625333423 -22.183380864176904, -43.08674038058924 -22.183166746393578, -43.084902884919586 -22.181787525445017, -43.083851517212814 -22.181432800461053, -43.080930908668115 -22.180739710060248, -43.08035255377179 -22.18045277687015, -43.080042070935015 -22.18005963734575, -43.079347573095156 -22.177988402484793, -43.07887136229556 -22.177377498426253, -43.078151222086674 -22.176778107488214, -43.077599899911206 -22.176481370788736, -43.076376748206926 -22.17622312597147, -43.073209694849325 -22.176432710272408, -43.07265500741076 -22.176315804703894, -43.072295596059675 -22.176051355463787, -43.07095331386415 -22.173725142123256, -43.06992808315351 -22.173149236980038, -43.06789970278593 -22.171740368981506, -43.06723451295169 -22.171420926199325, -43.0645649159772 -22.170753162505473, -43.062570279970785 -22.16927428948152, -43.06151113582639 -22.168660455431798, -43.05923390316076 -22.16782427300352, -43.05751506853626 -22.166933218441653, -43.05642678006288 -22.166058937134924, -43.05523912729706 -22.164467646159313, -43.05498747810748 -22.164317280415368, -43.05281330954505 -22.16526883147083, -43.05201429969361 -22.16542985148291, -43.05115403072342 -22.165256111460096, -43.05011995068396 -22.16467063303391, -43.04868772639297 -22.164229029944615, -43.04640109041613 -22.164122121239792, -43.04492999832639 -22.163668112003098, -43.04290501469814 -22.16359632182343, -43.03904588447547 -22.162717484551322, -43.0377105027779 -22.163012231950518, -43.03676122880576 -22.163465377837998, -43.03501689210658 -22.16513148611121, -43.03453817399716 -22.16576912881234, -43.03442726690654 -22.166439185777364, -43.03470978082813 -22.166939244798577, -43.03656872532815 -22.168149073946285, -43.03781915346954 -22.16855377065807, -43.03903964767719 -22.168509911622024, -43.03960027064107 -22.168662066117516, -43.03959429194824 -22.169110016621673, -43.03872971432621 -22.169969883594945, -43.03862556923793 -22.170541459401804, -43.03879108406146 -22.170909863973186, -43.03924136470907 -22.171365785168472, -43.039457453806264 -22.171969294101967, -43.039459538434734 -22.172933869139143, -43.03962178422274 -22.173343950991264, -43.041317813839136 -22.174277345634263, -43.04190252874088 -22.17500245549664, -43.042293769796515 -22.176694334741963, -43.04226655721118 -22.178788102116286, -43.04236844410183 -22.179298473663177, -43.0427040800765 -22.17936975392718, -43.04487681511949 -22.1791225060197, -43.04606355237551 -22.17920028658329, -43.04804174697661 -22.180392133787063, -43.05029298563832 -22.181325738871415, -43.051091083577255 -22.181797571771366, -43.0518424968104 -22.182381296519637, -43.05395715093892 -22.184536816740444, -43.05562603811715 -22.185707236697485, -43.05618411869765 -22.186413637963764, -43.05656959419975 -22.188168463455792, -43.05703810770214 -22.18852931462145, -43.05872987003548 -22.189371429877113, -43.045402854596084 -22.207418625111973)))\"\n        ],\n        \"semantic_type\": \"\",\n        \"description\": \"\"\n      }\n    }\n  ]\n}"
            }
          },
          "metadata": {},
          "execution_count": 62
        }
      ]
    },
    {
      "cell_type": "code",
      "metadata": {
        "id": "BRVLwHxHYq96"
      },
      "source": [
        "# manipule os dados\n",
        "df_2010 = fonte[fonte['Censo'] == 2010]\n",
        "colunas_desejadas = ['UF', 'nome', 'PIB', 'Pop_est_2009', 'PIB_percapita'] # Changed 'Nome' to 'nome'\n",
        "df_filtro = df_2010[colunas_desejadas]\n",
        "df_filtro.to_csv('cidades-limpo.csv', sep=';', index=False)\n",
        "\n",
        "# continue o codigo aqui"
      ],
      "execution_count": null,
      "outputs": []
    },
    {
      "cell_type": "code",
      "metadata": {
        "id": "GcAWBfwhYq96",
        "colab": {
          "base_uri": "https://localhost:8080/",
          "height": 143
        },
        "outputId": "8ab1c980-de47-4e9e-974c-8543196f44a8"
      },
      "source": [
        "# escrever o conteudo extraido no arquivo cidades-limpo.csv separados por ;\n",
        "\n",
        "NOME_ARQUIVO_DESTINO = 'cidades-limpo.csv'\n",
        "df_filtro.head(3)\n",
        "# continue o codigo aqui"
      ],
      "execution_count": null,
      "outputs": [
        {
          "output_type": "execute_result",
          "data": {
            "text/plain": [
              "                  UF      nome           PIB  Pop_est_2009  PIB_percapita\n",
              "0              BAHIA  Tremedal  5.788399e+04         18433    3140.239990\n",
              "1  RIO GRANDE DO SUL    Turuçu  4.572388e+04          4000   11430.969727\n",
              "2     ESPIRITO SANTO   Vitória  1.978263e+07        320156   61790.589844"
            ],
            "text/html": [
              "\n",
              "  <div id=\"df-06db1b0c-b373-4cf0-9081-556f8c478758\" class=\"colab-df-container\">\n",
              "    <div>\n",
              "<style scoped>\n",
              "    .dataframe tbody tr th:only-of-type {\n",
              "        vertical-align: middle;\n",
              "    }\n",
              "\n",
              "    .dataframe tbody tr th {\n",
              "        vertical-align: top;\n",
              "    }\n",
              "\n",
              "    .dataframe thead th {\n",
              "        text-align: right;\n",
              "    }\n",
              "</style>\n",
              "<table border=\"1\" class=\"dataframe\">\n",
              "  <thead>\n",
              "    <tr style=\"text-align: right;\">\n",
              "      <th></th>\n",
              "      <th>UF</th>\n",
              "      <th>nome</th>\n",
              "      <th>PIB</th>\n",
              "      <th>Pop_est_2009</th>\n",
              "      <th>PIB_percapita</th>\n",
              "    </tr>\n",
              "  </thead>\n",
              "  <tbody>\n",
              "    <tr>\n",
              "      <th>0</th>\n",
              "      <td>BAHIA</td>\n",
              "      <td>Tremedal</td>\n",
              "      <td>5.788399e+04</td>\n",
              "      <td>18433</td>\n",
              "      <td>3140.239990</td>\n",
              "    </tr>\n",
              "    <tr>\n",
              "      <th>1</th>\n",
              "      <td>RIO GRANDE DO SUL</td>\n",
              "      <td>Turuçu</td>\n",
              "      <td>4.572388e+04</td>\n",
              "      <td>4000</td>\n",
              "      <td>11430.969727</td>\n",
              "    </tr>\n",
              "    <tr>\n",
              "      <th>2</th>\n",
              "      <td>ESPIRITO SANTO</td>\n",
              "      <td>Vitória</td>\n",
              "      <td>1.978263e+07</td>\n",
              "      <td>320156</td>\n",
              "      <td>61790.589844</td>\n",
              "    </tr>\n",
              "  </tbody>\n",
              "</table>\n",
              "</div>\n",
              "    <div class=\"colab-df-buttons\">\n",
              "\n",
              "  <div class=\"colab-df-container\">\n",
              "    <button class=\"colab-df-convert\" onclick=\"convertToInteractive('df-06db1b0c-b373-4cf0-9081-556f8c478758')\"\n",
              "            title=\"Convert this dataframe to an interactive table.\"\n",
              "            style=\"display:none;\">\n",
              "\n",
              "  <svg xmlns=\"http://www.w3.org/2000/svg\" height=\"24px\" viewBox=\"0 -960 960 960\">\n",
              "    <path d=\"M120-120v-720h720v720H120Zm60-500h600v-160H180v160Zm220 220h160v-160H400v160Zm0 220h160v-160H400v160ZM180-400h160v-160H180v160Zm440 0h160v-160H620v160ZM180-180h160v-160H180v160Zm440 0h160v-160H620v160Z\"/>\n",
              "  </svg>\n",
              "    </button>\n",
              "\n",
              "  <style>\n",
              "    .colab-df-container {\n",
              "      display:flex;\n",
              "      gap: 12px;\n",
              "    }\n",
              "\n",
              "    .colab-df-convert {\n",
              "      background-color: #E8F0FE;\n",
              "      border: none;\n",
              "      border-radius: 50%;\n",
              "      cursor: pointer;\n",
              "      display: none;\n",
              "      fill: #1967D2;\n",
              "      height: 32px;\n",
              "      padding: 0 0 0 0;\n",
              "      width: 32px;\n",
              "    }\n",
              "\n",
              "    .colab-df-convert:hover {\n",
              "      background-color: #E2EBFA;\n",
              "      box-shadow: 0px 1px 2px rgba(60, 64, 67, 0.3), 0px 1px 3px 1px rgba(60, 64, 67, 0.15);\n",
              "      fill: #174EA6;\n",
              "    }\n",
              "\n",
              "    .colab-df-buttons div {\n",
              "      margin-bottom: 4px;\n",
              "    }\n",
              "\n",
              "    [theme=dark] .colab-df-convert {\n",
              "      background-color: #3B4455;\n",
              "      fill: #D2E3FC;\n",
              "    }\n",
              "\n",
              "    [theme=dark] .colab-df-convert:hover {\n",
              "      background-color: #434B5C;\n",
              "      box-shadow: 0px 1px 3px 1px rgba(0, 0, 0, 0.15);\n",
              "      filter: drop-shadow(0px 1px 2px rgba(0, 0, 0, 0.3));\n",
              "      fill: #FFFFFF;\n",
              "    }\n",
              "  </style>\n",
              "\n",
              "    <script>\n",
              "      const buttonEl =\n",
              "        document.querySelector('#df-06db1b0c-b373-4cf0-9081-556f8c478758 button.colab-df-convert');\n",
              "      buttonEl.style.display =\n",
              "        google.colab.kernel.accessAllowed ? 'block' : 'none';\n",
              "\n",
              "      async function convertToInteractive(key) {\n",
              "        const element = document.querySelector('#df-06db1b0c-b373-4cf0-9081-556f8c478758');\n",
              "        const dataTable =\n",
              "          await google.colab.kernel.invokeFunction('convertToInteractive',\n",
              "                                                    [key], {});\n",
              "        if (!dataTable) return;\n",
              "\n",
              "        const docLinkHtml = 'Like what you see? Visit the ' +\n",
              "          '<a target=\"_blank\" href=https://colab.research.google.com/notebooks/data_table.ipynb>data table notebook</a>'\n",
              "          + ' to learn more about interactive tables.';\n",
              "        element.innerHTML = '';\n",
              "        dataTable['output_type'] = 'display_data';\n",
              "        await google.colab.output.renderOutput(dataTable, element);\n",
              "        const docLink = document.createElement('div');\n",
              "        docLink.innerHTML = docLinkHtml;\n",
              "        element.appendChild(docLink);\n",
              "      }\n",
              "    </script>\n",
              "  </div>\n",
              "\n",
              "\n",
              "<div id=\"df-9aa9d11c-23ef-49a3-9e2b-4a123982ef07\">\n",
              "  <button class=\"colab-df-quickchart\" onclick=\"quickchart('df-9aa9d11c-23ef-49a3-9e2b-4a123982ef07')\"\n",
              "            title=\"Suggest charts\"\n",
              "            style=\"display:none;\">\n",
              "\n",
              "<svg xmlns=\"http://www.w3.org/2000/svg\" height=\"24px\"viewBox=\"0 0 24 24\"\n",
              "     width=\"24px\">\n",
              "    <g>\n",
              "        <path d=\"M19 3H5c-1.1 0-2 .9-2 2v14c0 1.1.9 2 2 2h14c1.1 0 2-.9 2-2V5c0-1.1-.9-2-2-2zM9 17H7v-7h2v7zm4 0h-2V7h2v10zm4 0h-2v-4h2v4z\"/>\n",
              "    </g>\n",
              "</svg>\n",
              "  </button>\n",
              "\n",
              "<style>\n",
              "  .colab-df-quickchart {\n",
              "      --bg-color: #E8F0FE;\n",
              "      --fill-color: #1967D2;\n",
              "      --hover-bg-color: #E2EBFA;\n",
              "      --hover-fill-color: #174EA6;\n",
              "      --disabled-fill-color: #AAA;\n",
              "      --disabled-bg-color: #DDD;\n",
              "  }\n",
              "\n",
              "  [theme=dark] .colab-df-quickchart {\n",
              "      --bg-color: #3B4455;\n",
              "      --fill-color: #D2E3FC;\n",
              "      --hover-bg-color: #434B5C;\n",
              "      --hover-fill-color: #FFFFFF;\n",
              "      --disabled-bg-color: #3B4455;\n",
              "      --disabled-fill-color: #666;\n",
              "  }\n",
              "\n",
              "  .colab-df-quickchart {\n",
              "    background-color: var(--bg-color);\n",
              "    border: none;\n",
              "    border-radius: 50%;\n",
              "    cursor: pointer;\n",
              "    display: none;\n",
              "    fill: var(--fill-color);\n",
              "    height: 32px;\n",
              "    padding: 0;\n",
              "    width: 32px;\n",
              "  }\n",
              "\n",
              "  .colab-df-quickchart:hover {\n",
              "    background-color: var(--hover-bg-color);\n",
              "    box-shadow: 0 1px 2px rgba(60, 64, 67, 0.3), 0 1px 3px 1px rgba(60, 64, 67, 0.15);\n",
              "    fill: var(--button-hover-fill-color);\n",
              "  }\n",
              "\n",
              "  .colab-df-quickchart-complete:disabled,\n",
              "  .colab-df-quickchart-complete:disabled:hover {\n",
              "    background-color: var(--disabled-bg-color);\n",
              "    fill: var(--disabled-fill-color);\n",
              "    box-shadow: none;\n",
              "  }\n",
              "\n",
              "  .colab-df-spinner {\n",
              "    border: 2px solid var(--fill-color);\n",
              "    border-color: transparent;\n",
              "    border-bottom-color: var(--fill-color);\n",
              "    animation:\n",
              "      spin 1s steps(1) infinite;\n",
              "  }\n",
              "\n",
              "  @keyframes spin {\n",
              "    0% {\n",
              "      border-color: transparent;\n",
              "      border-bottom-color: var(--fill-color);\n",
              "      border-left-color: var(--fill-color);\n",
              "    }\n",
              "    20% {\n",
              "      border-color: transparent;\n",
              "      border-left-color: var(--fill-color);\n",
              "      border-top-color: var(--fill-color);\n",
              "    }\n",
              "    30% {\n",
              "      border-color: transparent;\n",
              "      border-left-color: var(--fill-color);\n",
              "      border-top-color: var(--fill-color);\n",
              "      border-right-color: var(--fill-color);\n",
              "    }\n",
              "    40% {\n",
              "      border-color: transparent;\n",
              "      border-right-color: var(--fill-color);\n",
              "      border-top-color: var(--fill-color);\n",
              "    }\n",
              "    60% {\n",
              "      border-color: transparent;\n",
              "      border-right-color: var(--fill-color);\n",
              "    }\n",
              "    80% {\n",
              "      border-color: transparent;\n",
              "      border-right-color: var(--fill-color);\n",
              "      border-bottom-color: var(--fill-color);\n",
              "    }\n",
              "    90% {\n",
              "      border-color: transparent;\n",
              "      border-bottom-color: var(--fill-color);\n",
              "    }\n",
              "  }\n",
              "</style>\n",
              "\n",
              "  <script>\n",
              "    async function quickchart(key) {\n",
              "      const quickchartButtonEl =\n",
              "        document.querySelector('#' + key + ' button');\n",
              "      quickchartButtonEl.disabled = true;  // To prevent multiple clicks.\n",
              "      quickchartButtonEl.classList.add('colab-df-spinner');\n",
              "      try {\n",
              "        const charts = await google.colab.kernel.invokeFunction(\n",
              "            'suggestCharts', [key], {});\n",
              "      } catch (error) {\n",
              "        console.error('Error during call to suggestCharts:', error);\n",
              "      }\n",
              "      quickchartButtonEl.classList.remove('colab-df-spinner');\n",
              "      quickchartButtonEl.classList.add('colab-df-quickchart-complete');\n",
              "    }\n",
              "    (() => {\n",
              "      let quickchartButtonEl =\n",
              "        document.querySelector('#df-9aa9d11c-23ef-49a3-9e2b-4a123982ef07 button');\n",
              "      quickchartButtonEl.style.display =\n",
              "        google.colab.kernel.accessAllowed ? 'block' : 'none';\n",
              "    })();\n",
              "  </script>\n",
              "</div>\n",
              "\n",
              "    </div>\n",
              "  </div>\n"
            ],
            "application/vnd.google.colaboratory.intrinsic+json": {
              "type": "dataframe",
              "summary": "{\n  \"name\": \"# continue o codigo aqui\",\n  \"rows\": 3,\n  \"fields\": [\n    {\n      \"column\": \"UF\",\n      \"properties\": {\n        \"dtype\": \"string\",\n        \"num_unique_values\": 3,\n        \"samples\": [\n          \"BAHIA\",\n          \"RIO GRANDE DO SUL\",\n          \"ESPIRITO SANTO\"\n        ],\n        \"semantic_type\": \"\",\n        \"description\": \"\"\n      }\n    },\n    {\n      \"column\": \"nome\",\n      \"properties\": {\n        \"dtype\": \"string\",\n        \"num_unique_values\": 3,\n        \"samples\": [\n          \"Tremedal\",\n          \"Turu\\u00e7u\",\n          \"Vit\\u00f3ria\"\n        ],\n        \"semantic_type\": \"\",\n        \"description\": \"\"\n      }\n    },\n    {\n      \"column\": \"PIB\",\n      \"properties\": {\n        \"dtype\": \"number\",\n        \"std\": 11391598.20863332,\n        \"min\": 45723.875,\n        \"max\": 19782628.0,\n        \"num_unique_values\": 3,\n        \"samples\": [\n          57883.9921875,\n          45723.875,\n          19782628.0\n        ],\n        \"semantic_type\": \"\",\n        \"description\": \"\"\n      }\n    },\n    {\n      \"column\": \"Pop_est_2009\",\n      \"properties\": {\n        \"dtype\": \"number\",\n        \"std\": 178512,\n        \"min\": 4000,\n        \"max\": 320156,\n        \"num_unique_values\": 3,\n        \"samples\": [\n          18433,\n          4000,\n          320156\n        ],\n        \"semantic_type\": \"\",\n        \"description\": \"\"\n      }\n    },\n    {\n      \"column\": \"PIB_percapita\",\n      \"properties\": {\n        \"dtype\": \"number\",\n        \"std\": 31740.32943498657,\n        \"min\": 3140.23999023,\n        \"max\": 61790.58984375,\n        \"num_unique_values\": 3,\n        \"samples\": [\n          3140.23999023,\n          11430.96972656,\n          61790.58984375\n        ],\n        \"semantic_type\": \"\",\n        \"description\": \"\"\n      }\n    }\n  ]\n}"
            }
          },
          "metadata": {},
          "execution_count": 71
        }
      ]
    },
    {
      "cell_type": "markdown",
      "metadata": {
        "id": "EBzoHVD8b_c7"
      },
      "source": [
        "### **1.3. Brasil**"
      ]
    },
    {
      "cell_type": "markdown",
      "metadata": {
        "id": "Ft6l5bDwb_c7"
      },
      "source": [
        "Utilize o pacote Python `pandas` para combinar os dados do arquivo `estados-limpo.csv` com os dados do arquivo `cidades-limpo.csv` em um único dataframe. Escolha a coluna e o método de combinação de tal forma que **não haja perda de dados** no processo (não produzirá valores nulos `NaN`). Salve os dados do dataframe no arquivo `brasil.csv`"
      ]
    },
    {
      "cell_type": "code",
      "metadata": {
        "id": "Vz3J7G4-dBXa",
        "colab": {
          "base_uri": "https://localhost:8080/"
        },
        "outputId": "9b4738b9-a791-4080-a360-cbd4f679e472"
      },
      "source": [
        "# solução do exercício 1.3\n",
        "import pandas as pd\n",
        "estados_df = pd.read_csv('estados-limpo.csv', sep=';')\n",
        "cidades_df = pd.read_csv('cidades-limpo.csv', sep=';')\n",
        "\n",
        "print(estados_df.columns)\n",
        "print(cidades_df.columns)\n",
        "\n",
        "estados_df['estado'] = estados_df['estado'].str.upper()\n",
        "cidades_df['UF'] = cidades_df['UF'].str.upper()"
      ],
      "execution_count": null,
      "outputs": [
        {
          "output_type": "stream",
          "name": "stdout",
          "text": [
            "Index(['estado', 'sigla', 'regiao'], dtype='object')\n",
            "Index(['UF', 'nome', 'PIB', 'Pop_est_2009', 'PIB_percapita'], dtype='object')\n"
          ]
        }
      ]
    },
    {
      "cell_type": "markdown",
      "metadata": {
        "id": "waxn4B2UDHyl"
      },
      "source": [
        "---"
      ]
    },
    {
      "cell_type": "markdown",
      "metadata": {
        "id": "finLQoyyGVmk"
      },
      "source": [
        "## 2\\. Data Analytics"
      ]
    },
    {
      "cell_type": "markdown",
      "metadata": {
        "id": "Ab0GW19Ed1ig"
      },
      "source": [
        "### **2.1. DataFrame**"
      ]
    },
    {
      "cell_type": "markdown",
      "metadata": {
        "id": "l8jJYjeBdijt"
      },
      "source": [
        "Utilize o pacote Python `pandas` para carregar o arquivo `brasil.csv` no dataframe `brasil_df`."
      ]
    },
    {
      "cell_type": "code",
      "metadata": {
        "id": "8kFQLlqud4QL"
      },
      "source": [
        "# solução do exercício 2.1\n",
        "brasil_df = pd.merge(estados_df, cidades_df, left_on='estado', right_on='UF', how='inner')\n",
        "brasil_df.to_csv('brasil.csv', sep=';', index=False)"
      ],
      "execution_count": null,
      "outputs": []
    },
    {
      "cell_type": "markdown",
      "metadata": {
        "id": "ZFWvK8FXHuex"
      },
      "source": [
        "### **2.2. Analise**"
      ]
    },
    {
      "cell_type": "markdown",
      "metadata": {
        "id": "EGyz0R1dd62D"
      },
      "source": [
        "Utilize o dataframe `brasil_df` para responder as seguintes perguntas de negócio:"
      ]
    },
    {
      "cell_type": "markdown",
      "metadata": {
        "id": "lGnYVp7IeFBD"
      },
      "source": [
        " - Quais são as 10 cidades mais populosas do Brasil?"
      ]
    },
    {
      "cell_type": "code",
      "metadata": {
        "id": "KQKcD-VkeQYf",
        "colab": {
          "base_uri": "https://localhost:8080/"
        },
        "outputId": "fbe9a497-ed42-47b7-b0a3-aa38dcd2c3e7"
      },
      "source": [
        "# código para responder a pergunta\n",
        "cidades_mais_populosas = brasil_df[['nome', 'Pop_est_2009']].sort_values(by='Pop_est_2009', ascending=False).head(10)\n",
        "print(\"As 10 cidades mais populosas do Brasil são:\\n\", cidades_mais_populosas)\n"
      ],
      "execution_count": null,
      "outputs": [
        {
          "output_type": "stream",
          "name": "stdout",
          "text": [
            "As 10 cidades mais populosas do Brasil são:\n",
            "                  nome  Pop_est_2009\n",
            "1096   Rio de Janeiro       6186710\n",
            "230          Salvador       2998056\n",
            "602          Brasília       2606885\n",
            "3102   Belo Horizonte       2452617\n",
            "126            Manaus       1738641\n",
            "1019           Recife       1561659\n",
            "1423     Porto Alegre       1436123\n",
            "1117      São Gonçalo        991382\n",
            "105            Maceió        936314\n",
            "1153  Duque de Caxias        872762\n"
          ]
        }
      ]
    },
    {
      "cell_type": "markdown",
      "metadata": {
        "id": "l93St6uleWTp"
      },
      "source": [
        " - Quais são as 5 cidades com a menor PIB per capita da região nordeste?"
      ]
    },
    {
      "cell_type": "code",
      "metadata": {
        "id": "DS5akh2zeWTq",
        "colab": {
          "base_uri": "https://localhost:8080/"
        },
        "outputId": "edad7089-55b6-4dc4-eb59-0a504af204a5"
      },
      "source": [
        "# código para responder a pergunta\n",
        "nordeste_df = brasil_df[brasil_df['regiao'] == 'NORDESTE']\n",
        "cidades_com_menor_pib = nordeste_df.sort_values(by='PIB_percapita', ascending=True).head(5)\n",
        "print(\"As 5 cidades com a menor PIB per capita da região nordeste são:\\n\", cidades_com_menor_pib)"
      ],
      "execution_count": null,
      "outputs": [
        {
          "output_type": "stream",
          "name": "stdout",
          "text": [
            "As 5 cidades com a menor PIB per capita da região nordeste são:\n",
            "       estado sigla    regiao       UF          nome           PIB  \\\n",
            "548    BAHIA    BA  NORDESTE    BAHIA      Caetanos  30036.105469   \n",
            "555    BAHIA    BA  NORDESTE    BAHIA  Novo Triunfo  36864.132812   \n",
            "446    BAHIA    BA  NORDESTE    BAHIA        Matina  33801.074219   \n",
            "57   ALAGOAS    AL  NORDESTE  ALAGOAS        Traipu  68499.687500   \n",
            "397    BAHIA    BA  NORDESTE    BAHIA      Mansidão  32635.740234   \n",
            "\n",
            "     Pop_est_2009  PIB_percapita  \n",
            "548         12307    2440.570068  \n",
            "555         14763    2497.060059  \n",
            "446         13245    2551.989990  \n",
            "57          25854    2649.479980  \n",
            "397         12244    2665.449951  \n"
          ]
        }
      ]
    },
    {
      "cell_type": "markdown",
      "metadata": {
        "id": "GqwffgUmedmb"
      },
      "source": [
        " - Quais são as 15 cidades com maior PIB do do estado de São Paulo?"
      ]
    },
    {
      "cell_type": "code",
      "metadata": {
        "id": "tFKEn1gLedmc",
        "colab": {
          "base_uri": "https://localhost:8080/"
        },
        "outputId": "564571b2-3eff-4f59-8e6d-393ba6b3f2ad"
      },
      "source": [
        "# código para responder a pergunta\n",
        "sp_df = brasil_df[brasil_df['estado'] == 'são paulo']\n",
        "brasil_df['PIB'] = pd.to_numeric(brasil_df['PIB'], errors='coerce').fillna(0)\n",
        "maior_pib_sp = sp_df[['nome', 'PIB']].sort_values(by='PIB', ascending=False).head(15)\n",
        "print(\"As 15 cidades com maior PIB do estado de São Paulo são:\\n\", maior_pib_sp)"
      ],
      "execution_count": null,
      "outputs": [
        {
          "output_type": "stream",
          "name": "stdout",
          "text": [
            "As 15 cidades com maior PIB do estado de São Paulo são:\n",
            " Empty DataFrame\n",
            "Columns: [nome, PIB]\n",
            "Index: []\n"
          ]
        }
      ]
    },
    {
      "cell_type": "markdown",
      "metadata": {
        "id": "Wg_la1wOewoB"
      },
      "source": [
        " - Qual é o PIB do estado de Santa Catarina?"
      ]
    },
    {
      "cell_type": "code",
      "metadata": {
        "id": "LwGqow5_ewoB",
        "colab": {
          "base_uri": "https://localhost:8080/"
        },
        "outputId": "dcb16463-5e50-48ee-fc8e-386977380be4"
      },
      "source": [
        "# código para responder a pergunta\n",
        "# Qual é o PIB do estado de Santa Catarina?\n",
        "sc_df = brasil_df[brasil_df['estado'].str.strip().str.lower() == 'santa catarina']\n",
        "\n",
        "# Converter a coluna PIB para numérico (caso tenha sido carregada como string)\n",
        "brasil_df['PIB'] = pd.to_numeric(brasil_df['PIB'], errors='coerce').fillna(0)\n",
        "\n",
        "# Calcular o PIB total do estado\n",
        "pib_sc = sc_df['PIB'].sum()\n",
        "\n",
        "print(\"O PIB do estado de Santa Catarina é:\", pib_sc)\n"
      ],
      "execution_count": null,
      "outputs": [
        {
          "output_type": "stream",
          "name": "stdout",
          "text": [
            "O PIB do estado de Santa Catarina é: 129806256.75195317\n"
          ]
        }
      ]
    },
    {
      "cell_type": "markdown",
      "metadata": {
        "id": "Yaw2gDukfApr"
      },
      "source": [
        " - Qual é o população da região sul?"
      ]
    },
    {
      "cell_type": "code",
      "metadata": {
        "id": "enEkNjFQfAps",
        "colab": {
          "base_uri": "https://localhost:8080/"
        },
        "outputId": "cf1a8282-8f56-4aa3-bb72-c0b65fd5bc85"
      },
      "source": [
        "# código para responder a pergunta\n",
        "rs_df = brasil_df[brasil_df['regiao'] == 'SUL']\n",
        "populacao_rs = rs_df['Pop_est_2009'].sum()\n",
        "print(\"A população da região sul é:\", populacao_rs)"
      ],
      "execution_count": null,
      "outputs": [
        {
          "output_type": "stream",
          "name": "stdout",
          "text": [
            "A população da região sul é: 17032871\n"
          ]
        }
      ]
    },
    {
      "cell_type": "markdown",
      "metadata": {
        "id": "9qOaKRS9fFu8"
      },
      "source": [
        " - Qual é o PIB per capito médio das cidades do Mato Grosso do Sul?"
      ]
    },
    {
      "cell_type": "code",
      "metadata": {
        "id": "gX8DVSfFfFu9",
        "colab": {
          "base_uri": "https://localhost:8080/"
        },
        "outputId": "6f4ae1bb-7606-486e-d76a-092549e05d19"
      },
      "source": [
        "# código para responder a pergunta\n",
        "print(\"Estados únicos no dataset:\", brasil_df['estado'].unique())\n",
        "\n",
        "brasil_df['PIB_percapita'] = pd.to_numeric(brasil_df['PIB_percapita'], errors='coerce')\n",
        "ms_df = brasil_df[brasil_df['estado'].str.strip().str.lower() == 'mato grosso do sul']\n",
        "\n",
        "if ms_df.empty:\n",
        "    print(\"Nenhuma cidade encontrada no estado de Mato Grosso do Sul.\")\n",
        "else:\n",
        "  pib_percapita_ms = ms_df['PIB_percapita'].mean()\n",
        "print(\"O PIB per capita médio das cidades do Mato Grosso do Sul é:\", pib_percapita_ms)"
      ],
      "execution_count": null,
      "outputs": [
        {
          "output_type": "stream",
          "name": "stdout",
          "text": [
            "Estados únicos no dataset: ['ACRE' 'ALAGOAS' 'AMAZONAS' 'BAHIA' 'DISTRITO FEDERAL' 'ESPIRITO SANTO'\n",
            " 'MATO GROSSO' 'MATO GROSSO DO SUL' 'PERNAMBUCO' 'RIO DE JANEIRO'\n",
            " 'RIO GRANDE DO NORTE' 'RIO GRANDE DO SUL' 'RORAIMA' 'SANTA CATARINA'\n",
            " 'SERGIPE' 'TOCANTINS' 'MINAS GERAIS']\n",
            "O PIB per capita médio das cidades do Mato Grosso do Sul é: 14458.896859975644\n"
          ]
        }
      ]
    },
    {
      "cell_type": "markdown",
      "metadata": {
        "id": "lvf-VqaffS2D"
      },
      "source": [
        " - Qual é a população do Brasil?"
      ]
    },
    {
      "cell_type": "code",
      "metadata": {
        "id": "_nBsY6EcfS2E",
        "colab": {
          "base_uri": "https://localhost:8080/"
        },
        "outputId": "51e103ae-25d9-4d4b-d5eb-91700dec934a"
      },
      "source": [
        "# código para responder a pergunta\n",
        "populacao_brasil = brasil_df['Pop_est_2009'].sum()\n",
        "print(\"A população do Brasil é:\", populacao_brasil)"
      ],
      "execution_count": null,
      "outputs": [
        {
          "output_type": "stream",
          "name": "stdout",
          "text": [
            "A população do Brasil é: 101885500\n"
          ]
        }
      ]
    },
    {
      "cell_type": "markdown",
      "metadata": {
        "id": "hnTSARXpipkP"
      },
      "source": [
        "### **2.3. Visualização**"
      ]
    },
    {
      "cell_type": "markdown",
      "metadata": {
        "id": "7coMkY8xixFO"
      },
      "source": [
        "Utilize o dataframe `brasil_df` para gerar as seguintes visualizações."
      ]
    },
    {
      "cell_type": "markdown",
      "metadata": {
        "id": "SgvPvh4Vjctx"
      },
      "source": [
        " - Gere um gráfico de barras com as 10 cidades menos populosas do Brasil."
      ]
    },
    {
      "cell_type": "code",
      "metadata": {
        "id": "V8eM0uEUjcty",
        "colab": {
          "base_uri": "https://localhost:8080/",
          "height": 660
        },
        "outputId": "bdb9933b-9d3a-473c-9f60-8fa6bab43543"
      },
      "source": [
        "# código para gerar a visualização\n",
        "import matplotlib.pyplot as plt\n",
        "cidades_menos_populosas = brasil_df.sort_values(by='Pop_est_2009', ascending=True).head(10)\n",
        "\n",
        "plt.figure(figsize=(10, 6))\n",
        "plt.bar(cidades_menos_populosas['nome'], cidades_menos_populosas['Pop_est_2009'])\n",
        "\n",
        "plt.xlabel('Cidade')\n",
        "plt.ylabel('População')\n",
        "plt.title('10 Cidades Menos Populosas do Brasil')\n",
        "plt.xticks(rotation=45)\n",
        "plt.show()\n",
        "\n",
        "\n"
      ],
      "execution_count": null,
      "outputs": [
        {
          "output_type": "display_data",
          "data": {
            "text/plain": [
              "<Figure size 1000x600 with 1 Axes>"
            ],
            "image/png": "[encoded data removed]"
          },
          "metadata": {}
        }
      ]
    },
    {
      "cell_type": "markdown",
      "metadata": {
        "id": "gsa3SrTjjrGV"
      },
      "source": [
        " - Gere um gráfico de pizza com a proporção da população do Brasil por região."
      ]
    },
    {
      "cell_type": "code",
      "metadata": {
        "id": "1dvqIAEHjrGV",
        "colab": {
          "base_uri": "https://localhost:8080/",
          "height": 675
        },
        "outputId": "3b6ce6df-7181-4449-c1e2-6b3685011ab5"
      },
      "source": [
        "# código para gerar a visualização\n",
        "import matplotlib.pyplot as plt\n",
        "populacao_regiao = brasil_df.groupby('regiao')['Pop_est_2009'].sum()\n",
        "\n",
        "plt.figure(figsize=(8, 8))\n",
        "plt.pie(populacao_regiao, labels=populacao_regiao.index, autopct='%1.1f%%')\n",
        "plt.title('Proporção da População por Região do Brasil')\n",
        "plt.axis('equal')\n",
        "plt.show()"
      ],
      "execution_count": null,
      "outputs": [
        {
          "output_type": "display_data",
          "data": {
            "text/plain": [
              "<Figure size 800x800 with 1 Axes>"
            ],
            "image/png": "[encoded data removed]"
          },
          "metadata": {}
        }
      ]
    },
    {
      "cell_type": "code",
      "source": [],
      "metadata": {
        "id": "04_uKsDEcROU"
      },
      "execution_count": null,
      "outputs": []
    }
  ]
}